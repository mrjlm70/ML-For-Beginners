{
 "cells": [
  {
   "cell_type": "code",
   "execution_count": 13,
   "metadata": {},
   "outputs": [
    {
     "data": {
      "application/vnd.microsoft.datawrangler.viewer.v0+json": {
       "columns": [
        {
         "name": "index",
         "rawType": "int64",
         "type": "integer"
        },
        {
         "name": "City Name",
         "rawType": "object",
         "type": "string"
        },
        {
         "name": "Type",
         "rawType": "object",
         "type": "unknown"
        },
        {
         "name": "Package",
         "rawType": "object",
         "type": "string"
        },
        {
         "name": "Variety",
         "rawType": "object",
         "type": "string"
        },
        {
         "name": "Sub Variety",
         "rawType": "object",
         "type": "unknown"
        },
        {
         "name": "Grade",
         "rawType": "float64",
         "type": "float"
        },
        {
         "name": "Date",
         "rawType": "object",
         "type": "string"
        },
        {
         "name": "Low Price",
         "rawType": "float64",
         "type": "float"
        },
        {
         "name": "High Price",
         "rawType": "float64",
         "type": "float"
        },
        {
         "name": "Mostly Low",
         "rawType": "float64",
         "type": "float"
        },
        {
         "name": "Mostly High",
         "rawType": "float64",
         "type": "float"
        },
        {
         "name": "Origin",
         "rawType": "object",
         "type": "string"
        },
        {
         "name": "Origin District",
         "rawType": "object",
         "type": "unknown"
        },
        {
         "name": "Item Size",
         "rawType": "object",
         "type": "unknown"
        },
        {
         "name": "Color",
         "rawType": "object",
         "type": "string"
        },
        {
         "name": "Environment",
         "rawType": "float64",
         "type": "float"
        },
        {
         "name": "Unit of Sale",
         "rawType": "object",
         "type": "unknown"
        },
        {
         "name": "Quality",
         "rawType": "float64",
         "type": "float"
        },
        {
         "name": "Condition",
         "rawType": "float64",
         "type": "float"
        },
        {
         "name": "Appearance",
         "rawType": "float64",
         "type": "float"
        },
        {
         "name": "Storage",
         "rawType": "float64",
         "type": "float"
        },
        {
         "name": "Crop",
         "rawType": "float64",
         "type": "float"
        },
        {
         "name": "Repack",
         "rawType": "object",
         "type": "string"
        },
        {
         "name": "Trans Mode",
         "rawType": "float64",
         "type": "float"
        },
        {
         "name": "Unnamed: 24",
         "rawType": "float64",
         "type": "float"
        },
        {
         "name": "Unnamed: 25",
         "rawType": "object",
         "type": "unknown"
        }
       ],
       "ref": "f3f8dccf-5e7e-47bf-9f74-f6754f907f5e",
       "rows": [
        [
         "70",
         "BALTIMORE",
         null,
         "1 1/9 bushel cartons",
         "PIE TYPE",
         null,
         null,
         "9/24/16",
         "15.0",
         "15.0",
         "15.0",
         "15.0",
         "DELAWARE",
         null,
         "med",
         "ORANGE",
         null,
         null,
         null,
         null,
         null,
         null,
         null,
         "N",
         null,
         null,
         null
        ],
        [
         "71",
         "BALTIMORE",
         null,
         "1 1/9 bushel cartons",
         "PIE TYPE",
         null,
         null,
         "9/24/16",
         "18.0",
         "18.0",
         "18.0",
         "18.0",
         "DELAWARE",
         null,
         "sml",
         "ORANGE",
         null,
         null,
         null,
         null,
         null,
         null,
         null,
         "N",
         null,
         null,
         null
        ],
        [
         "72",
         "BALTIMORE",
         null,
         "1 1/9 bushel cartons",
         "PIE TYPE",
         null,
         null,
         "10/1/16",
         "18.0",
         "18.0",
         "18.0",
         "18.0",
         "DELAWARE",
         null,
         "sml",
         "ORANGE",
         null,
         null,
         null,
         null,
         null,
         null,
         null,
         "N",
         null,
         null,
         null
        ],
        [
         "73",
         "BALTIMORE",
         null,
         "1 1/9 bushel cartons",
         "PIE TYPE",
         null,
         null,
         "10/1/16",
         "17.0",
         "17.0",
         "17.0",
         "17.0",
         "OHIO",
         null,
         "med",
         "ORANGE",
         null,
         null,
         null,
         null,
         null,
         null,
         null,
         "N",
         null,
         null,
         null
        ],
        [
         "74",
         "BALTIMORE",
         null,
         "1 1/9 bushel cartons",
         "PIE TYPE",
         null,
         null,
         "10/8/16",
         "15.0",
         "15.0",
         "15.0",
         "15.0",
         "DELAWARE",
         null,
         null,
         "ORANGE",
         null,
         null,
         null,
         null,
         null,
         null,
         null,
         "N",
         null,
         null,
         null
        ]
       ],
       "shape": {
        "columns": 26,
        "rows": 5
       }
      },
      "text/html": [
       "<div>\n",
       "<style scoped>\n",
       "    .dataframe tbody tr th:only-of-type {\n",
       "        vertical-align: middle;\n",
       "    }\n",
       "\n",
       "    .dataframe tbody tr th {\n",
       "        vertical-align: top;\n",
       "    }\n",
       "\n",
       "    .dataframe thead th {\n",
       "        text-align: right;\n",
       "    }\n",
       "</style>\n",
       "<table border=\"1\" class=\"dataframe\">\n",
       "  <thead>\n",
       "    <tr style=\"text-align: right;\">\n",
       "      <th></th>\n",
       "      <th>City Name</th>\n",
       "      <th>Type</th>\n",
       "      <th>Package</th>\n",
       "      <th>Variety</th>\n",
       "      <th>Sub Variety</th>\n",
       "      <th>Grade</th>\n",
       "      <th>Date</th>\n",
       "      <th>Low Price</th>\n",
       "      <th>High Price</th>\n",
       "      <th>Mostly Low</th>\n",
       "      <th>...</th>\n",
       "      <th>Unit of Sale</th>\n",
       "      <th>Quality</th>\n",
       "      <th>Condition</th>\n",
       "      <th>Appearance</th>\n",
       "      <th>Storage</th>\n",
       "      <th>Crop</th>\n",
       "      <th>Repack</th>\n",
       "      <th>Trans Mode</th>\n",
       "      <th>Unnamed: 24</th>\n",
       "      <th>Unnamed: 25</th>\n",
       "    </tr>\n",
       "  </thead>\n",
       "  <tbody>\n",
       "    <tr>\n",
       "      <th>70</th>\n",
       "      <td>BALTIMORE</td>\n",
       "      <td>NaN</td>\n",
       "      <td>1 1/9 bushel cartons</td>\n",
       "      <td>PIE TYPE</td>\n",
       "      <td>NaN</td>\n",
       "      <td>NaN</td>\n",
       "      <td>9/24/16</td>\n",
       "      <td>15.0</td>\n",
       "      <td>15.0</td>\n",
       "      <td>15.0</td>\n",
       "      <td>...</td>\n",
       "      <td>NaN</td>\n",
       "      <td>NaN</td>\n",
       "      <td>NaN</td>\n",
       "      <td>NaN</td>\n",
       "      <td>NaN</td>\n",
       "      <td>NaN</td>\n",
       "      <td>N</td>\n",
       "      <td>NaN</td>\n",
       "      <td>NaN</td>\n",
       "      <td>NaN</td>\n",
       "    </tr>\n",
       "    <tr>\n",
       "      <th>71</th>\n",
       "      <td>BALTIMORE</td>\n",
       "      <td>NaN</td>\n",
       "      <td>1 1/9 bushel cartons</td>\n",
       "      <td>PIE TYPE</td>\n",
       "      <td>NaN</td>\n",
       "      <td>NaN</td>\n",
       "      <td>9/24/16</td>\n",
       "      <td>18.0</td>\n",
       "      <td>18.0</td>\n",
       "      <td>18.0</td>\n",
       "      <td>...</td>\n",
       "      <td>NaN</td>\n",
       "      <td>NaN</td>\n",
       "      <td>NaN</td>\n",
       "      <td>NaN</td>\n",
       "      <td>NaN</td>\n",
       "      <td>NaN</td>\n",
       "      <td>N</td>\n",
       "      <td>NaN</td>\n",
       "      <td>NaN</td>\n",
       "      <td>NaN</td>\n",
       "    </tr>\n",
       "    <tr>\n",
       "      <th>72</th>\n",
       "      <td>BALTIMORE</td>\n",
       "      <td>NaN</td>\n",
       "      <td>1 1/9 bushel cartons</td>\n",
       "      <td>PIE TYPE</td>\n",
       "      <td>NaN</td>\n",
       "      <td>NaN</td>\n",
       "      <td>10/1/16</td>\n",
       "      <td>18.0</td>\n",
       "      <td>18.0</td>\n",
       "      <td>18.0</td>\n",
       "      <td>...</td>\n",
       "      <td>NaN</td>\n",
       "      <td>NaN</td>\n",
       "      <td>NaN</td>\n",
       "      <td>NaN</td>\n",
       "      <td>NaN</td>\n",
       "      <td>NaN</td>\n",
       "      <td>N</td>\n",
       "      <td>NaN</td>\n",
       "      <td>NaN</td>\n",
       "      <td>NaN</td>\n",
       "    </tr>\n",
       "    <tr>\n",
       "      <th>73</th>\n",
       "      <td>BALTIMORE</td>\n",
       "      <td>NaN</td>\n",
       "      <td>1 1/9 bushel cartons</td>\n",
       "      <td>PIE TYPE</td>\n",
       "      <td>NaN</td>\n",
       "      <td>NaN</td>\n",
       "      <td>10/1/16</td>\n",
       "      <td>17.0</td>\n",
       "      <td>17.0</td>\n",
       "      <td>17.0</td>\n",
       "      <td>...</td>\n",
       "      <td>NaN</td>\n",
       "      <td>NaN</td>\n",
       "      <td>NaN</td>\n",
       "      <td>NaN</td>\n",
       "      <td>NaN</td>\n",
       "      <td>NaN</td>\n",
       "      <td>N</td>\n",
       "      <td>NaN</td>\n",
       "      <td>NaN</td>\n",
       "      <td>NaN</td>\n",
       "    </tr>\n",
       "    <tr>\n",
       "      <th>74</th>\n",
       "      <td>BALTIMORE</td>\n",
       "      <td>NaN</td>\n",
       "      <td>1 1/9 bushel cartons</td>\n",
       "      <td>PIE TYPE</td>\n",
       "      <td>NaN</td>\n",
       "      <td>NaN</td>\n",
       "      <td>10/8/16</td>\n",
       "      <td>15.0</td>\n",
       "      <td>15.0</td>\n",
       "      <td>15.0</td>\n",
       "      <td>...</td>\n",
       "      <td>NaN</td>\n",
       "      <td>NaN</td>\n",
       "      <td>NaN</td>\n",
       "      <td>NaN</td>\n",
       "      <td>NaN</td>\n",
       "      <td>NaN</td>\n",
       "      <td>N</td>\n",
       "      <td>NaN</td>\n",
       "      <td>NaN</td>\n",
       "      <td>NaN</td>\n",
       "    </tr>\n",
       "  </tbody>\n",
       "</table>\n",
       "<p>5 rows × 26 columns</p>\n",
       "</div>"
      ],
      "text/plain": [
       "    City Name Type               Package   Variety Sub Variety  Grade  \\\n",
       "70  BALTIMORE  NaN  1 1/9 bushel cartons  PIE TYPE         NaN    NaN   \n",
       "71  BALTIMORE  NaN  1 1/9 bushel cartons  PIE TYPE         NaN    NaN   \n",
       "72  BALTIMORE  NaN  1 1/9 bushel cartons  PIE TYPE         NaN    NaN   \n",
       "73  BALTIMORE  NaN  1 1/9 bushel cartons  PIE TYPE         NaN    NaN   \n",
       "74  BALTIMORE  NaN  1 1/9 bushel cartons  PIE TYPE         NaN    NaN   \n",
       "\n",
       "       Date  Low Price  High Price  Mostly Low  ...  Unit of Sale Quality  \\\n",
       "70  9/24/16       15.0        15.0        15.0  ...           NaN     NaN   \n",
       "71  9/24/16       18.0        18.0        18.0  ...           NaN     NaN   \n",
       "72  10/1/16       18.0        18.0        18.0  ...           NaN     NaN   \n",
       "73  10/1/16       17.0        17.0        17.0  ...           NaN     NaN   \n",
       "74  10/8/16       15.0        15.0        15.0  ...           NaN     NaN   \n",
       "\n",
       "   Condition Appearance Storage  Crop Repack  Trans Mode  Unnamed: 24  \\\n",
       "70       NaN        NaN     NaN   NaN      N         NaN          NaN   \n",
       "71       NaN        NaN     NaN   NaN      N         NaN          NaN   \n",
       "72       NaN        NaN     NaN   NaN      N         NaN          NaN   \n",
       "73       NaN        NaN     NaN   NaN      N         NaN          NaN   \n",
       "74       NaN        NaN     NaN   NaN      N         NaN          NaN   \n",
       "\n",
       "    Unnamed: 25  \n",
       "70          NaN  \n",
       "71          NaN  \n",
       "72          NaN  \n",
       "73          NaN  \n",
       "74          NaN  \n",
       "\n",
       "[5 rows x 26 columns]"
      ]
     },
     "execution_count": 13,
     "metadata": {},
     "output_type": "execute_result"
    }
   ],
   "source": [
    "import pandas as pd\n",
    "pumpkins = pd.read_csv('../data/US-pumpkins.csv')\n",
    "pumpkins = pumpkins[pumpkins['Package'].str.contains('bushel', case=True, regex=True)]\n",
    "pumpkins.head()"
   ]
  },
  {
   "cell_type": "code",
   "execution_count": 14,
   "metadata": {},
   "outputs": [
    {
     "data": {
      "application/vnd.microsoft.datawrangler.viewer.v0+json": {
       "columns": [
        {
         "name": "index",
         "rawType": "object",
         "type": "string"
        },
        {
         "name": "0",
         "rawType": "int64",
         "type": "integer"
        }
       ],
       "ref": "ccccc545-b0c5-4695-a8e1-a1fa96cfa1be",
       "rows": [
        [
         "City Name",
         "0"
        ],
        [
         "Type",
         "406"
        ],
        [
         "Package",
         "0"
        ],
        [
         "Variety",
         "0"
        ],
        [
         "Sub Variety",
         "167"
        ],
        [
         "Grade",
         "415"
        ],
        [
         "Date",
         "0"
        ],
        [
         "Low Price",
         "0"
        ],
        [
         "High Price",
         "0"
        ],
        [
         "Mostly Low",
         "24"
        ],
        [
         "Mostly High",
         "24"
        ],
        [
         "Origin",
         "0"
        ],
        [
         "Origin District",
         "396"
        ],
        [
         "Item Size",
         "114"
        ],
        [
         "Color",
         "145"
        ],
        [
         "Environment",
         "415"
        ],
        [
         "Unit of Sale",
         "404"
        ],
        [
         "Quality",
         "415"
        ],
        [
         "Condition",
         "415"
        ],
        [
         "Appearance",
         "415"
        ],
        [
         "Storage",
         "415"
        ],
        [
         "Crop",
         "415"
        ],
        [
         "Repack",
         "0"
        ],
        [
         "Trans Mode",
         "415"
        ],
        [
         "Unnamed: 24",
         "415"
        ],
        [
         "Unnamed: 25",
         "391"
        ]
       ],
       "shape": {
        "columns": 1,
        "rows": 26
       }
      },
      "text/plain": [
       "City Name            0\n",
       "Type               406\n",
       "Package              0\n",
       "Variety              0\n",
       "Sub Variety        167\n",
       "Grade              415\n",
       "Date                 0\n",
       "Low Price            0\n",
       "High Price           0\n",
       "Mostly Low          24\n",
       "Mostly High         24\n",
       "Origin               0\n",
       "Origin District    396\n",
       "Item Size          114\n",
       "Color              145\n",
       "Environment        415\n",
       "Unit of Sale       404\n",
       "Quality            415\n",
       "Condition          415\n",
       "Appearance         415\n",
       "Storage            415\n",
       "Crop               415\n",
       "Repack               0\n",
       "Trans Mode         415\n",
       "Unnamed: 24        415\n",
       "Unnamed: 25        391\n",
       "dtype: int64"
      ]
     },
     "execution_count": 14,
     "metadata": {},
     "output_type": "execute_result"
    }
   ],
   "source": [
    "pumpkins.isnull().sum()"
   ]
  },
  {
   "cell_type": "code",
   "execution_count": 15,
   "metadata": {},
   "outputs": [
    {
     "data": {
      "application/vnd.microsoft.datawrangler.viewer.v0+json": {
       "columns": [
        {
         "name": "index",
         "rawType": "int64",
         "type": "integer"
        },
        {
         "name": "Package",
         "rawType": "object",
         "type": "string"
        },
        {
         "name": "Low Price",
         "rawType": "float64",
         "type": "float"
        },
        {
         "name": "High Price",
         "rawType": "float64",
         "type": "float"
        },
        {
         "name": "Date",
         "rawType": "object",
         "type": "string"
        }
       ],
       "ref": "f194cd7a-1626-42c2-964f-347f4bf24838",
       "rows": [
        [
         "70",
         "1 1/9 bushel cartons",
         "15.0",
         "15.0",
         "9/24/16"
        ],
        [
         "71",
         "1 1/9 bushel cartons",
         "18.0",
         "18.0",
         "9/24/16"
        ],
        [
         "72",
         "1 1/9 bushel cartons",
         "18.0",
         "18.0",
         "10/1/16"
        ],
        [
         "73",
         "1 1/9 bushel cartons",
         "17.0",
         "17.0",
         "10/1/16"
        ],
        [
         "74",
         "1 1/9 bushel cartons",
         "15.0",
         "15.0",
         "10/8/16"
        ]
       ],
       "shape": {
        "columns": 4,
        "rows": 5
       }
      },
      "text/html": [
       "<div>\n",
       "<style scoped>\n",
       "    .dataframe tbody tr th:only-of-type {\n",
       "        vertical-align: middle;\n",
       "    }\n",
       "\n",
       "    .dataframe tbody tr th {\n",
       "        vertical-align: top;\n",
       "    }\n",
       "\n",
       "    .dataframe thead th {\n",
       "        text-align: right;\n",
       "    }\n",
       "</style>\n",
       "<table border=\"1\" class=\"dataframe\">\n",
       "  <thead>\n",
       "    <tr style=\"text-align: right;\">\n",
       "      <th></th>\n",
       "      <th>Package</th>\n",
       "      <th>Low Price</th>\n",
       "      <th>High Price</th>\n",
       "      <th>Date</th>\n",
       "    </tr>\n",
       "  </thead>\n",
       "  <tbody>\n",
       "    <tr>\n",
       "      <th>70</th>\n",
       "      <td>1 1/9 bushel cartons</td>\n",
       "      <td>15.0</td>\n",
       "      <td>15.0</td>\n",
       "      <td>9/24/16</td>\n",
       "    </tr>\n",
       "    <tr>\n",
       "      <th>71</th>\n",
       "      <td>1 1/9 bushel cartons</td>\n",
       "      <td>18.0</td>\n",
       "      <td>18.0</td>\n",
       "      <td>9/24/16</td>\n",
       "    </tr>\n",
       "    <tr>\n",
       "      <th>72</th>\n",
       "      <td>1 1/9 bushel cartons</td>\n",
       "      <td>18.0</td>\n",
       "      <td>18.0</td>\n",
       "      <td>10/1/16</td>\n",
       "    </tr>\n",
       "    <tr>\n",
       "      <th>73</th>\n",
       "      <td>1 1/9 bushel cartons</td>\n",
       "      <td>17.0</td>\n",
       "      <td>17.0</td>\n",
       "      <td>10/1/16</td>\n",
       "    </tr>\n",
       "    <tr>\n",
       "      <th>74</th>\n",
       "      <td>1 1/9 bushel cartons</td>\n",
       "      <td>15.0</td>\n",
       "      <td>15.0</td>\n",
       "      <td>10/8/16</td>\n",
       "    </tr>\n",
       "  </tbody>\n",
       "</table>\n",
       "</div>"
      ],
      "text/plain": [
       "                 Package  Low Price  High Price     Date\n",
       "70  1 1/9 bushel cartons       15.0        15.0  9/24/16\n",
       "71  1 1/9 bushel cartons       18.0        18.0  9/24/16\n",
       "72  1 1/9 bushel cartons       18.0        18.0  10/1/16\n",
       "73  1 1/9 bushel cartons       17.0        17.0  10/1/16\n",
       "74  1 1/9 bushel cartons       15.0        15.0  10/8/16"
      ]
     },
     "execution_count": 15,
     "metadata": {},
     "output_type": "execute_result"
    }
   ],
   "source": [
    "columns_to_select = ['Package', 'Low Price', 'High Price', 'Date']\n",
    "pumpkins = pumpkins.loc[:, columns_to_select]\n",
    "pumpkins.head()"
   ]
  },
  {
   "cell_type": "code",
   "execution_count": 16,
   "metadata": {},
   "outputs": [],
   "source": [
    "price = (pumpkins['Low Price'] + pumpkins['High Price']) / 2\n",
    "\n",
    "month = pd.DatetimeIndex(pumpkins['Date']).month"
   ]
  },
  {
   "cell_type": "code",
   "execution_count": 17,
   "metadata": {},
   "outputs": [],
   "source": [
    "new_pumpkins = pd.DataFrame({'Month': month, 'Package': pumpkins['Package'], 'Low Price': pumpkins['Low Price'],'High Price': pumpkins['High Price'], 'Price': price})"
   ]
  },
  {
   "cell_type": "code",
   "execution_count": 18,
   "metadata": {},
   "outputs": [],
   "source": [
    "new_pumpkins.loc[new_pumpkins['Package'].str.contains('1 1/9'), 'Price'] = price/(1 + 1/9)\n",
    "\n",
    "new_pumpkins.loc[new_pumpkins['Package'].str.contains('1/2'), 'Price'] = price/(1/2)"
   ]
  },
  {
   "cell_type": "code",
   "execution_count": 19,
   "metadata": {},
   "outputs": [
    {
     "data": {
      "image/png": "[encoded data removed]",
      "text/plain": [
       "<Figure size 640x480 with 1 Axes>"
      ]
     },
     "metadata": {},
     "output_type": "display_data"
    }
   ],
   "source": [
    "import matplotlib.pyplot as plt\n",
    "\n",
    "price = new_pumpkins.Price\n",
    "month = new_pumpkins.Month\n",
    "plt.scatter(price, month)\n",
    "plt.show()"
   ]
  },
  {
   "cell_type": "code",
   "execution_count": 20,
   "metadata": {},
   "outputs": [
    {
     "data": {
      "text/plain": [
       "Text(0, 0.5, 'Pumpkin Price')"
      ]
     },
     "execution_count": 20,
     "metadata": {},
     "output_type": "execute_result"
    },
    {
     "data": {
      "image/png": "[encoded data removed]",
      "text/plain": [
       "<Figure size 640x480 with 1 Axes>"
      ]
     },
     "metadata": {},
     "output_type": "display_data"
    }
   ],
   "source": [
    "new_pumpkins.groupby(['Month'])['Price'].mean().plot(kind='bar')\n",
    "plt.ylabel(\"Pumpkin Price\")"
   ]
  },
  {
   "cell_type": "code",
   "execution_count": 28,
   "metadata": {},
   "outputs": [
    {
     "data": {
      "text/plain": [
       "<seaborn.axisgrid.FacetGrid at 0x15e419190>"
      ]
     },
     "execution_count": 28,
     "metadata": {},
     "output_type": "execute_result"
    },
    {
     "data": {
      "image/png": "[encoded data removed]",
      "text/plain": [
       "<Figure size 500x500 with 1 Axes>"
      ]
     },
     "metadata": {},
     "output_type": "display_data"
    }
   ],
   "source": [
    "import seaborn as sns\n",
    "\n",
    "# sns.set_theme(style=\"darkgrid\")\n",
    "sns.relplot(x=month, y=price,)"
   ]
  }
 ],
 "metadata": {
  "kernelspec": {
   "display_name": "base",
   "language": "python",
   "name": "python3"
  },
  "language_info": {
   "codemirror_mode": {
    "name": "ipython",
    "version": 3
   },
   "file_extension": ".py",
   "mimetype": "text/x-python",
   "name": "python",
   "nbconvert_exporter": "python",
   "pygments_lexer": "ipython3",
   "version": "3.12.2"
  },
  "orig_nbformat": 2
 },
 "nbformat": 4,
 "nbformat_minor": 2
}
